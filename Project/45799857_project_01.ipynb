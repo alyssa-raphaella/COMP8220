{
  "nbformat": 4,
  "nbformat_minor": 0,
  "metadata": {
    "colab": {
      "name": "45799857_project_01.ipynb",
      "provenance": [],
      "machine_shape": "hm",
      "authorship_tag": "ABX9TyOCgegNx2MDdb7i8IRyFTM6",
      "include_colab_link": true
    },
    "kernelspec": {
      "name": "python3",
      "display_name": "Python 3"
    }
  },
  "cells": [
    {
      "cell_type": "markdown",
      "metadata": {
        "id": "view-in-github",
        "colab_type": "text"
      },
      "source": [
        "<a href=\"https://colab.research.google.com/github/alyssa-raphaella/COMP8220/blob/master/Project/45799857_project_01.ipynb\" target=\"_parent\"><img src=\"https://colab.research.google.com/assets/colab-badge.svg\" alt=\"Open In Colab\"/></a>"
      ]
    },
    {
      "cell_type": "code",
      "metadata": {
        "id": "XppJPuQ5dYPu",
        "colab_type": "code",
        "colab": {}
      },
      "source": [
        "import numpy as np\n",
        "from os.path import join\n",
        "import matplotlib.pyplot as plt\n",
        "import tensorflow as tf\n",
        "from tensorflow.keras import layers, models\n",
        "from google.colab import drive\n",
        "\n",
        "from sklearn.svm import SVC\n",
        "from sklearn.ensemble import RandomForestClassifier\n",
        "from sklearn.linear_model import SGDClassifier\n",
        "from sklearn.linear_model import LogisticRegression\n",
        "from sklearn.ensemble import VotingClassifier\n",
        "from sklearn.ensemble import BaggingClassifier\n",
        "from sklearn.metrics import classification_report\n",
        "import pandas as pd\n",
        "from google.colab import files"
      ],
      "execution_count": 0,
      "outputs": []
    },
    {
      "cell_type": "code",
      "metadata": {
        "id": "3XOCYoFydqP_",
        "colab_type": "code",
        "outputId": "59260028-6a56-475f-8833-bbd417e2fe2a",
        "colab": {
          "base_uri": "https://localhost:8080/",
          "height": 120
        }
      },
      "source": [
        "# mount drive\n",
        "drive.mount('/content/gdrive', force_remount=True)\n",
        "root_path = 'gdrive/My Drive/COMP8220-GColab/'\n",
        "\n",
        "# import directory from gdrive\n",
        "dataset_directory = '/content/gdrive/My Drive/COMP8220 - Datasets/Project/'"
      ],
      "execution_count": 2,
      "outputs": [
        {
          "output_type": "stream",
          "text": [
            "Go to this URL in a browser: https://accounts.google.com/o/oauth2/auth?client_id=947318989803-6bn6qk8qdgf4n4g3pfee6491hc0brc4i.apps.googleusercontent.com&redirect_uri=urn%3aietf%3awg%3aoauth%3a2.0%3aoob&response_type=code&scope=email%20https%3a%2f%2fwww.googleapis.com%2fauth%2fdocs.test%20https%3a%2f%2fwww.googleapis.com%2fauth%2fdrive%20https%3a%2f%2fwww.googleapis.com%2fauth%2fdrive.photos.readonly%20https%3a%2f%2fwww.googleapis.com%2fauth%2fpeopleapi.readonly\n",
            "\n",
            "Enter your authorization code:\n",
            "··········\n",
            "Mounted at /content/gdrive\n"
          ],
          "name": "stdout"
        }
      ]
    },
    {
      "cell_type": "code",
      "metadata": {
        "id": "euH8yt-dd3Js",
        "colab_type": "code",
        "colab": {}
      },
      "source": [
        "# import datasets\n",
        "images_train = np.load(join(dataset_directory, 'train_images.npy'))\n",
        "labels_train = np.load(join(dataset_directory, 'train_labels.npy')) # [black, blond, brown, gray]\n",
        "\n",
        "images_val = np.load(join(dataset_directory, 'val_images.npy'))\n",
        "labels_val = np.load(join(dataset_directory, 'val_labels.npy'))\n",
        "files_val = np.load(join(dataset_directory, 'val_files.npy'))\n",
        "\n",
        "images_test_public = np.load(join(dataset_directory, 'test_public_images.npy'))\n",
        "files_test_public = np.load(join(dataset_directory, 'test_public_files.npy'))"
      ],
      "execution_count": 0,
      "outputs": []
    },
    {
      "cell_type": "code",
      "metadata": {
        "id": "mR9cgCxNeGhs",
        "colab_type": "code",
        "colab": {}
      },
      "source": [
        "image_size = 48\n",
        "hair_colours = ['black', 'blond', 'brown', 'gray']\n",
        "\n",
        "# reshape and scale values in [0,1] interval \n",
        "images_train = images_train.reshape([-1, image_size, image_size, 3]) / 255.0\n",
        "images_val = images_val.reshape([-1, image_size, image_size, 3]) / 255.0\n",
        "images_test_public = images_test_public.reshape([-1, image_size, image_size, 3]) / 255.0"
      ],
      "execution_count": 0,
      "outputs": []
    },
    {
      "cell_type": "code",
      "metadata": {
        "id": "_7bS3R80NvOk",
        "colab_type": "code",
        "colab": {
          "base_uri": "https://localhost:8080/",
          "height": 67
        },
        "outputId": "54596d24-8d97-463c-ea92-350a7017dea9"
      },
      "source": [
        "# transform from 4D to 2D\n",
        "vol_shape = images_train.shape[1:4]\n",
        "n_vol =  np.prod(vol_shape)\n",
        "images_train_2d = images_train.reshape(images_train.shape[0], n_vol)\n",
        "images_val_2d = images_val.reshape(images_val.shape[0], n_vol)\n",
        "images_test_public_2d = images_test_public.reshape(images_test_public.shape[0], n_vol)\n",
        "\n",
        "print(images_train_2d.shape)\n",
        "print(images_val_2d.shape)\n",
        "images_test_public_2d.shape"
      ],
      "execution_count": 5,
      "outputs": [
        {
          "output_type": "stream",
          "text": [
            "(98479, 6912)\n",
            "(12270, 6912)\n"
          ],
          "name": "stdout"
        },
        {
          "output_type": "execute_result",
          "data": {
            "text/plain": [
              "(11921, 6912)"
            ]
          },
          "metadata": {
            "tags": []
          },
          "execution_count": 5
        }
      ]
    },
    {
      "cell_type": "code",
      "metadata": {
        "id": "6X-6gVMm-ESp",
        "colab_type": "code",
        "outputId": "fa5dca91-68f0-41eb-92db-fa9e4af24289",
        "colab": {
          "base_uri": "https://localhost:8080/",
          "height": 201
        }
      },
      "source": [
        "## SVM train\n",
        "svm_clf = BaggingClassifier(base_estimator = SVC(kernel = 'linear', random_state = 42), n_estimators = 10, max_samples = 1000, random_state = 42)\n",
        "svm_clf.fit(images_train_2d, labels_train)"
      ],
      "execution_count": 6,
      "outputs": [
        {
          "output_type": "execute_result",
          "data": {
            "text/plain": [
              "BaggingClassifier(base_estimator=SVC(C=1.0, break_ties=False, cache_size=200,\n",
              "                                     class_weight=None, coef0=0.0,\n",
              "                                     decision_function_shape='ovr', degree=3,\n",
              "                                     gamma='scale', kernel='linear',\n",
              "                                     max_iter=-1, probability=False,\n",
              "                                     random_state=42, shrinking=True, tol=0.001,\n",
              "                                     verbose=False),\n",
              "                  bootstrap=True, bootstrap_features=False, max_features=1.0,\n",
              "                  max_samples=1000, n_estimators=10, n_jobs=None,\n",
              "                  oob_score=False, random_state=42, verbose=0,\n",
              "                  warm_start=False)"
            ]
          },
          "metadata": {
            "tags": []
          },
          "execution_count": 6
        }
      ]
    },
    {
      "cell_type": "code",
      "metadata": {
        "id": "Bjr7RZ1VW4dY",
        "colab_type": "code",
        "colab": {
          "base_uri": "https://localhost:8080/",
          "height": 401
        },
        "outputId": "a41d6886-4469-49db-9eff-76bdb14e251a"
      },
      "source": [
        "## RF train\n",
        "rf_clf = BaggingClassifier(base_estimator=RandomForestClassifier(random_state=42), n_estimators=10, max_samples=1000, random_state=42)\n",
        "rf_clf.fit(images_train_2d, labels_train)"
      ],
      "execution_count": 7,
      "outputs": [
        {
          "output_type": "execute_result",
          "data": {
            "text/plain": [
              "BaggingClassifier(base_estimator=RandomForestClassifier(bootstrap=True,\n",
              "                                                        ccp_alpha=0.0,\n",
              "                                                        class_weight=None,\n",
              "                                                        criterion='gini',\n",
              "                                                        max_depth=None,\n",
              "                                                        max_features='auto',\n",
              "                                                        max_leaf_nodes=None,\n",
              "                                                        max_samples=None,\n",
              "                                                        min_impurity_decrease=0.0,\n",
              "                                                        min_impurity_split=None,\n",
              "                                                        min_samples_leaf=1,\n",
              "                                                        min_samples_split=2,\n",
              "                                                        min_weight_fraction_leaf=0.0,\n",
              "                                                        n_estimators=100,\n",
              "                                                        n_jobs=None,\n",
              "                                                        oob_score=False,\n",
              "                                                        random_state=42,\n",
              "                                                        verbose=0,\n",
              "                                                        warm_start=False),\n",
              "                  bootstrap=True, bootstrap_features=False, max_features=1.0,\n",
              "                  max_samples=1000, n_estimators=10, n_jobs=None,\n",
              "                  oob_score=False, random_state=42, verbose=0,\n",
              "                  warm_start=False)"
            ]
          },
          "metadata": {
            "tags": []
          },
          "execution_count": 7
        }
      ]
    },
    {
      "cell_type": "code",
      "metadata": {
        "id": "OP9uj21HnRb-",
        "colab_type": "code",
        "colab": {
          "base_uri": "https://localhost:8080/",
          "height": 117
        },
        "outputId": "5ff6c04d-c6af-4488-f8fb-329bb2ce21ca"
      },
      "source": [
        "## SGD train\n",
        "#sgd_clf = BaggingClassifier(base_estimator=SGDClassifier(loss=\"hinge\", penalty=\"l2\", max_iter=1000), n_estimators=10, max_samples=1000, random_state=42)\n",
        "sgd_clf = SGDClassifier(loss = 'log')\n",
        "sgd_clf.fit(images_train_2d, labels_train)"
      ],
      "execution_count": 8,
      "outputs": [
        {
          "output_type": "execute_result",
          "data": {
            "text/plain": [
              "SGDClassifier(alpha=0.0001, average=False, class_weight=None,\n",
              "              early_stopping=False, epsilon=0.1, eta0=0.0, fit_intercept=True,\n",
              "              l1_ratio=0.15, learning_rate='optimal', loss='log', max_iter=1000,\n",
              "              n_iter_no_change=5, n_jobs=None, penalty='l2', power_t=0.5,\n",
              "              random_state=None, shuffle=True, tol=0.001,\n",
              "              validation_fraction=0.1, verbose=0, warm_start=False)"
            ]
          },
          "metadata": {
            "tags": []
          },
          "execution_count": 8
        }
      ]
    },
    {
      "cell_type": "code",
      "metadata": {
        "id": "nHZ91CbUuoLp",
        "colab_type": "code",
        "colab": {}
      },
      "source": [
        "## Linear Regression\n",
        "log_clf = BaggingClassifier(base_estimator=LogisticRegression(solver = 'saga', max_iter=1000), n_estimators=10, max_samples=1000, random_state=42)\n",
        "log_clf.fit(images_train_2d, labels_train)"
      ],
      "execution_count": 0,
      "outputs": []
    },
    {
      "cell_type": "code",
      "metadata": {
        "id": "hDTrTdhMdJRO",
        "colab_type": "code",
        "colab": {
          "base_uri": "https://localhost:8080/",
          "height": 552
        },
        "outputId": "7757ff24-e7f3-4a7b-8585-8a315d5881ff"
      },
      "source": [
        "## Voting train\n",
        "voting_clf = VotingClassifier( estimators=[('svc', svm_clf), ('rf', rf_clf), ('sgd', sgd_clf)], voting = 'soft')\n",
        "voting_clf.fit(images_train_2d, labels_train)    "
      ],
      "execution_count": 20,
      "outputs": [
        {
          "output_type": "execute_result",
          "data": {
            "text/plain": [
              "VotingClassifier(estimators=[('svc',\n",
              "                              BaggingClassifier(base_estimator=SVC(C=1.0,\n",
              "                                                                   break_ties=False,\n",
              "                                                                   cache_size=200,\n",
              "                                                                   class_weight=None,\n",
              "                                                                   coef0=0.0,\n",
              "                                                                   decision_function_shape='ovr',\n",
              "                                                                   degree=3,\n",
              "                                                                   gamma='scale',\n",
              "                                                                   kernel='linear',\n",
              "                                                                   max_iter=-1,\n",
              "                                                                   probability=False,\n",
              "                                                                   random_state=42,\n",
              "                                                                   shrinking=True,\n",
              "                                                                   tol=0.001,\n",
              "                                                                   verbose=False),\n",
              "                                                bootstrap=True,\n",
              "                                                bootstrap_features=False,\n",
              "                                                max_features=1.0...\n",
              "                                            class_weight=None,\n",
              "                                            early_stopping=False, epsilon=0.1,\n",
              "                                            eta0=0.0, fit_intercept=True,\n",
              "                                            l1_ratio=0.15,\n",
              "                                            learning_rate='optimal', loss='log',\n",
              "                                            max_iter=1000, n_iter_no_change=5,\n",
              "                                            n_jobs=None, penalty='l2',\n",
              "                                            power_t=0.5, random_state=None,\n",
              "                                            shuffle=True, tol=0.001,\n",
              "                                            validation_fraction=0.1, verbose=0,\n",
              "                                            warm_start=False))],\n",
              "                 flatten_transform=True, n_jobs=None, voting='soft',\n",
              "                 weights=None)"
            ]
          },
          "metadata": {
            "tags": []
          },
          "execution_count": 20
        }
      ]
    },
    {
      "cell_type": "code",
      "metadata": {
        "id": "Xau_xkgIRSEI",
        "colab_type": "code",
        "colab": {}
      },
      "source": [
        "## SVM val predict\n",
        "svm_predictions = svm_clf.predict(images_val_2d)"
      ],
      "execution_count": 0,
      "outputs": []
    },
    {
      "cell_type": "code",
      "metadata": {
        "id": "g3eElHCvZjx1",
        "colab_type": "code",
        "colab": {}
      },
      "source": [
        "## RF val predict\n",
        "rf_predictions = rf_clf.predict(images_val_2d)"
      ],
      "execution_count": 0,
      "outputs": []
    },
    {
      "cell_type": "code",
      "metadata": {
        "id": "PaiGotjKrF_p",
        "colab_type": "code",
        "colab": {}
      },
      "source": [
        "sgd_predictions = sgd_clf.predict(images_val_2d)"
      ],
      "execution_count": 0,
      "outputs": []
    },
    {
      "cell_type": "code",
      "metadata": {
        "id": "zSCyADEEhczT",
        "colab_type": "code",
        "colab": {}
      },
      "source": [
        "voting_predictions = voting_clf.predict(images_val_2d)"
      ],
      "execution_count": 0,
      "outputs": []
    },
    {
      "cell_type": "code",
      "metadata": {
        "id": "nf-iXUSTj-1e",
        "colab_type": "code",
        "outputId": "f0c7eb05-cdbd-424c-97ef-4ee8583cbf7b",
        "colab": {
          "base_uri": "https://localhost:8080/",
          "height": 201
        }
      },
      "source": [
        "print(classification_report(labels_val, sgd_predictions, target_names=hair_colours))"
      ],
      "execution_count": 25,
      "outputs": [
        {
          "output_type": "stream",
          "text": [
            "              precision    recall  f1-score   support\n",
            "\n",
            "       black       0.77      0.88      0.82      4007\n",
            "       blond       0.84      0.84      0.84      2852\n",
            "       brown       0.77      0.71      0.74      4507\n",
            "        gray       0.90      0.65      0.75       904\n",
            "\n",
            "    accuracy                           0.79     12270\n",
            "   macro avg       0.82      0.77      0.79     12270\n",
            "weighted avg       0.80      0.79      0.79     12270\n",
            "\n"
          ],
          "name": "stdout"
        }
      ]
    },
    {
      "cell_type": "code",
      "metadata": {
        "id": "GdOE7WPFIIzq",
        "colab_type": "code",
        "colab": {}
      },
      "source": [
        "## SVM test predict\n",
        "svm_test_prediction = voting_clf.predict(images_test_public_2d)"
      ],
      "execution_count": 0,
      "outputs": []
    },
    {
      "cell_type": "code",
      "metadata": {
        "id": "C5W52cPJMzpe",
        "colab_type": "code",
        "colab": {}
      },
      "source": [
        "## create Dataframe\n",
        "df = pd.DataFrame(columns = ['ID', 'Prediction'])\n",
        "df['ID'] = files_test_public\n",
        "df['Prediction'] = svm_test_prediction"
      ],
      "execution_count": 0,
      "outputs": []
    },
    {
      "cell_type": "code",
      "metadata": {
        "id": "eUnuLZg6PCHf",
        "colab_type": "code",
        "colab": {}
      },
      "source": [
        "## export test result\n",
        "df.to_csv('45799857_02.csv',header=True, index=False)\n",
        "files.download('45799857_02.csv')"
      ],
      "execution_count": 0,
      "outputs": []
    },
    {
      "cell_type": "code",
      "metadata": {
        "id": "27dQclFkCOtm",
        "colab_type": "code",
        "colab": {}
      },
      "source": [
        "from sklearn.decomposition import PCA\n",
        "\n",
        "pca = PCA()\n",
        "pca.fit(images_train_2d)\n",
        "pca = PCA(n_components = 0.95)\n",
        "images_train_pca = pca.fit_transform(images_train_2d)"
      ],
      "execution_count": 0,
      "outputs": []
    },
    {
      "cell_type": "code",
      "metadata": {
        "id": "Y6MJDhnQQb-Y",
        "colab_type": "code",
        "colab": {
          "base_uri": "https://localhost:8080/",
          "height": 50
        },
        "outputId": "7409fed1-b13e-45ed-92ce-90b9752da2b0"
      },
      "source": [
        "pca = PCA(n_components = 293)\n",
        "images_val_pca = pca.fit_transform(images_val_2d)\n",
        "\n",
        "print(images_train_pca.shape)\n",
        "print(images_val_pca.shape)"
      ],
      "execution_count": 11,
      "outputs": [
        {
          "output_type": "stream",
          "text": [
            "(98479, 293)\n",
            "(12270, 293)\n"
          ],
          "name": "stdout"
        }
      ]
    },
    {
      "cell_type": "code",
      "metadata": {
        "id": "XidYA5mmYMd1",
        "colab_type": "code",
        "outputId": "3717cb72-6453-411b-f38e-b6658b1c4231",
        "colab": {
          "base_uri": "https://localhost:8080/",
          "height": 201
        }
      },
      "source": [
        "from sklearn.neighbors import KNeighborsClassifier\n",
        "from sklearn.model_selection import cross_val_score\n",
        "\n",
        "knn_clf = BaggingClassifier(base_estimator = KNeighborsClassifier(n_neighbors=1), n_estimators = 10, max_samples = 1000, random_state = 42)\n",
        "#knn_cv = KNeighborsClassifier(n_neighbors=1)\n",
        "knn_clf.fit(images_train_2d, labels_train)\n",
        "#train model with cv of 10 \n",
        "#cv_scores = cross_val_score(knn_cv, voxel_by_time, labels_train, cv=10)\n",
        "#print(\"cv_scores mean:{}\".format(np.mean(cv_scores)))\n",
        "#print(labels_train.shape)\n",
        "#print(voxel_by_time.shape)"
      ],
      "execution_count": 15,
      "outputs": [
        {
          "output_type": "execute_result",
          "data": {
            "text/plain": [
              "BaggingClassifier(base_estimator=KNeighborsClassifier(algorithm='auto',\n",
              "                                                      leaf_size=30,\n",
              "                                                      metric='minkowski',\n",
              "                                                      metric_params=None,\n",
              "                                                      n_jobs=None,\n",
              "                                                      n_neighbors=1, p=2,\n",
              "                                                      weights='uniform'),\n",
              "                  bootstrap=True, bootstrap_features=False, max_features=1.0,\n",
              "                  max_samples=1000, n_estimators=10, n_jobs=None,\n",
              "                  oob_score=False, random_state=42, verbose=0,\n",
              "                  warm_start=False)"
            ]
          },
          "metadata": {
            "tags": []
          },
          "execution_count": 15
        }
      ]
    },
    {
      "cell_type": "code",
      "metadata": {
        "id": "4S0n0u9P4BEd",
        "colab_type": "code",
        "colab": {}
      },
      "source": [
        "knn_predictions = knn_clf.predict(images_val_2d)"
      ],
      "execution_count": 0,
      "outputs": []
    },
    {
      "cell_type": "code",
      "metadata": {
        "id": "ky4oC_Hp971j",
        "colab_type": "code",
        "outputId": "afd6f775-04b1-4764-ea4a-bb444cfeea87",
        "colab": {
          "base_uri": "https://localhost:8080/",
          "height": 201
        }
      },
      "source": [
        "from sklearn.metrics import classification_report\n",
        "\n",
        "print(classification_report(labels_val, knn_predictions, target_names=hair_colours))"
      ],
      "execution_count": 17,
      "outputs": [
        {
          "output_type": "stream",
          "text": [
            "              precision    recall  f1-score   support\n",
            "\n",
            "       black       0.65      0.62      0.64      4007\n",
            "       blond       0.54      0.93      0.69      2852\n",
            "       brown       0.60      0.46      0.52      4507\n",
            "        gray       0.71      0.13      0.22       904\n",
            "\n",
            "    accuracy                           0.60     12270\n",
            "   macro avg       0.63      0.53      0.52     12270\n",
            "weighted avg       0.61      0.60      0.57     12270\n",
            "\n"
          ],
          "name": "stdout"
        }
      ]
    },
    {
      "cell_type": "code",
      "metadata": {
        "id": "aBkm0cQXP3_t",
        "colab_type": "code",
        "colab": {}
      },
      "source": [
        ""
      ],
      "execution_count": 0,
      "outputs": []
    }
  ]
}