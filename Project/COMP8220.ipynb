{
  "nbformat": 4,
  "nbformat_minor": 0,
  "metadata": {
    "colab": {
      "name": "COMP8220.ipynb",
      "provenance": [],
      "collapsed_sections": [],
      "machine_shape": "hm"
    },
    "kernelspec": {
      "name": "python3",
      "display_name": "Python 3"
    }
  },
  "cells": [
    {
      "cell_type": "code",
      "metadata": {
        "id": "JDXpTKl-4Aba",
        "colab_type": "code",
        "colab": {
          "base_uri": "https://localhost:8080/",
          "height": 33
        },
        "outputId": "a1965696-69e6-4201-9fd9-cca1c0cd1c56"
      },
      "source": [
        "import numpy as np\n",
        "from os.path import join\n",
        "import matplotlib.pyplot as plt\n",
        "import tensorflow as tf\n",
        "from tensorflow.keras import layers, models\n",
        "from google.colab import drive\n",
        "\n",
        "from sklearn.svm import SVC\n",
        "from sklearn.ensemble import RandomForestClassifier\n",
        "from sklearn.linear_model import SGDClassifier\n",
        "from sklearn.linear_model import LogisticRegression\n",
        "from sklearn.ensemble import VotingClassifier\n",
        "from sklearn.ensemble import BaggingClassifier\n",
        "from sklearn.metrics import classification_report\n",
        "from sklearn.cluster import MeanShift\n",
        "import pandas as pd\n",
        "from google.colab import files\n",
        "\n",
        "from keras.utils import to_categorical\n",
        "from keras.models import Sequential\n",
        "from keras.layers import Dense, Conv2D, Flatten"
      ],
      "execution_count": 1,
      "outputs": [
        {
          "output_type": "stream",
          "text": [
            "Using TensorFlow backend.\n"
          ],
          "name": "stderr"
        }
      ]
    },
    {
      "cell_type": "code",
      "metadata": {
        "id": "SGMEd1LY4GsD",
        "colab_type": "code",
        "outputId": "3eb01fdf-2cb3-4634-af41-9ef3b3795486",
        "colab": {
          "base_uri": "https://localhost:8080/",
          "height": 120
        }
      },
      "source": [
        "# mount drive\n",
        "drive.mount('/content/gdrive', force_remount=True)\n",
        "root_path = 'gdrive/My Drive/COMP8220-GColab/'\n",
        "\n",
        "# import directory from gdrive\n",
        "dataset_directory = '/content/gdrive/My Drive/COMP8220 - Datasets/Project/'"
      ],
      "execution_count": 2,
      "outputs": [
        {
          "output_type": "stream",
          "text": [
            "Go to this URL in a browser: https://accounts.google.com/o/oauth2/auth?client_id=947318989803-6bn6qk8qdgf4n4g3pfee6491hc0brc4i.apps.googleusercontent.com&redirect_uri=urn%3aietf%3awg%3aoauth%3a2.0%3aoob&response_type=code&scope=email%20https%3a%2f%2fwww.googleapis.com%2fauth%2fdocs.test%20https%3a%2f%2fwww.googleapis.com%2fauth%2fdrive%20https%3a%2f%2fwww.googleapis.com%2fauth%2fdrive.photos.readonly%20https%3a%2f%2fwww.googleapis.com%2fauth%2fpeopleapi.readonly\n",
            "\n",
            "Enter your authorization code:\n",
            "··········\n",
            "Mounted at /content/gdrive\n"
          ],
          "name": "stdout"
        }
      ]
    },
    {
      "cell_type": "code",
      "metadata": {
        "id": "bhRrJ3y34Ls6",
        "colab_type": "code",
        "colab": {}
      },
      "source": [
        "# import datasets\n",
        "images_train = np.load(join(dataset_directory, 'train_images.npy'))\n",
        "labels_train = np.load(join(dataset_directory, 'train_labels.npy')) # [black, blond, brown, gray]\n",
        "\n",
        "images_val = np.load(join(dataset_directory, 'val_images.npy'))\n",
        "labels_val = np.load(join(dataset_directory, 'val_labels.npy'))\n",
        "files_val = np.load(join(dataset_directory, 'val_files.npy'))\n",
        "\n",
        "images_test_public = np.load(join(dataset_directory, 'test_public_images.npy'))\n",
        "files_test_public = np.load(join(dataset_directory, 'test_public_files.npy'))"
      ],
      "execution_count": 0,
      "outputs": []
    },
    {
      "cell_type": "code",
      "metadata": {
        "id": "uiMjY9iO4Zoe",
        "colab_type": "code",
        "colab": {}
      },
      "source": [
        "image_size = 48\n",
        "hair_colours = ['black', 'blond', 'brown', 'gray']\n",
        "\n",
        "# reshape and scale values in [0,1] interval \n",
        "images_train = images_train.reshape([-1, image_size, image_size, 3]) / 255.0\n",
        "images_val = images_val.reshape([-1, image_size, image_size, 3]) / 255.0\n",
        "images_test_public = images_test_public.reshape([-1, image_size, image_size, 3]) / 255.0"
      ],
      "execution_count": 0,
      "outputs": []
    },
    {
      "cell_type": "markdown",
      "metadata": {
        "id": "u2dwFphIwICD",
        "colab_type": "text"
      },
      "source": [
        "**Conventional Machine Learning Methods**"
      ]
    },
    {
      "cell_type": "code",
      "metadata": {
        "id": "g5dsjDlM4eQe",
        "colab_type": "code",
        "outputId": "2515eeec-0ed0-4ddc-a4c3-f250a1d47891",
        "colab": {
          "base_uri": "https://localhost:8080/",
          "height": 67
        }
      },
      "source": [
        "# transform from 4D to 2D\n",
        "vol_shape = images_train.shape[1:4]\n",
        "n_vol =  np.prod(vol_shape)\n",
        "images_train_2d = images_train.reshape(images_train.shape[0], n_vol)\n",
        "images_val_2d = images_val.reshape(images_val.shape[0], n_vol)\n",
        "images_test_public_2d = images_test_public.reshape(images_test_public.shape[0], n_vol)\n",
        "\n",
        "print(images_train_2d.shape)\n",
        "print(images_val_2d.shape)\n",
        "print(images_test_public_2d.shape)"
      ],
      "execution_count": 55,
      "outputs": [
        {
          "output_type": "stream",
          "text": [
            "(98479, 6912)\n",
            "(12270, 6912)\n",
            "(11921, 6912)\n"
          ],
          "name": "stdout"
        }
      ]
    },
    {
      "cell_type": "code",
      "metadata": {
        "id": "FTDb9aYh4m0T",
        "colab_type": "code",
        "outputId": "b2f91f09-36ad-42c2-8331-6c91d8b093bc",
        "colab": {
          "base_uri": "https://localhost:8080/",
          "height": 340
        }
      },
      "source": [
        "## SVM train\n",
        "svm_clf = BaggingClassifier(base_estimator = SVC(kernel = 'linear', random_state = 42, C = 10.0), n_estimators = 10, max_samples = 1000, random_state = 42)\n",
        "svm_clf.fit(images_train_2d, labels_train)"
      ],
      "execution_count": 56,
      "outputs": [
        {
          "output_type": "error",
          "ename": "ValueError",
          "evalue": "ignored",
          "traceback": [
            "\u001b[0;31m---------------------------------------------------------------------------\u001b[0m",
            "\u001b[0;31mValueError\u001b[0m                                Traceback (most recent call last)",
            "\u001b[0;32m<ipython-input-56-7c3dc4dcb48b>\u001b[0m in \u001b[0;36m<module>\u001b[0;34m()\u001b[0m\n\u001b[1;32m      1\u001b[0m \u001b[0msvm_clf\u001b[0m \u001b[0;34m=\u001b[0m \u001b[0mBaggingClassifier\u001b[0m\u001b[0;34m(\u001b[0m\u001b[0mbase_estimator\u001b[0m \u001b[0;34m=\u001b[0m \u001b[0mSVC\u001b[0m\u001b[0;34m(\u001b[0m\u001b[0mkernel\u001b[0m \u001b[0;34m=\u001b[0m \u001b[0;34m'linear'\u001b[0m\u001b[0;34m,\u001b[0m \u001b[0mrandom_state\u001b[0m \u001b[0;34m=\u001b[0m \u001b[0;36m42\u001b[0m\u001b[0;34m,\u001b[0m \u001b[0mC\u001b[0m \u001b[0;34m=\u001b[0m \u001b[0;36m10.0\u001b[0m\u001b[0;34m)\u001b[0m\u001b[0;34m,\u001b[0m \u001b[0mn_estimators\u001b[0m \u001b[0;34m=\u001b[0m \u001b[0;36m10\u001b[0m\u001b[0;34m,\u001b[0m \u001b[0mmax_samples\u001b[0m \u001b[0;34m=\u001b[0m \u001b[0;36m1000\u001b[0m\u001b[0;34m,\u001b[0m \u001b[0mrandom_state\u001b[0m \u001b[0;34m=\u001b[0m \u001b[0;36m42\u001b[0m\u001b[0;34m)\u001b[0m\u001b[0;34m\u001b[0m\u001b[0;34m\u001b[0m\u001b[0m\n\u001b[0;32m----> 2\u001b[0;31m \u001b[0msvm_clf\u001b[0m\u001b[0;34m.\u001b[0m\u001b[0mfit\u001b[0m\u001b[0;34m(\u001b[0m\u001b[0mimages_train_2d\u001b[0m\u001b[0;34m,\u001b[0m \u001b[0mlabels_train\u001b[0m\u001b[0;34m)\u001b[0m\u001b[0;34m\u001b[0m\u001b[0;34m\u001b[0m\u001b[0m\n\u001b[0m",
            "\u001b[0;32m/usr/local/lib/python3.6/dist-packages/sklearn/ensemble/_bagging.py\u001b[0m in \u001b[0;36mfit\u001b[0;34m(self, X, y, sample_weight)\u001b[0m\n\u001b[1;32m    241\u001b[0m         \u001b[0mself\u001b[0m \u001b[0;34m:\u001b[0m \u001b[0mobject\u001b[0m\u001b[0;34m\u001b[0m\u001b[0;34m\u001b[0m\u001b[0m\n\u001b[1;32m    242\u001b[0m         \"\"\"\n\u001b[0;32m--> 243\u001b[0;31m         \u001b[0;32mreturn\u001b[0m \u001b[0mself\u001b[0m\u001b[0;34m.\u001b[0m\u001b[0m_fit\u001b[0m\u001b[0;34m(\u001b[0m\u001b[0mX\u001b[0m\u001b[0;34m,\u001b[0m \u001b[0my\u001b[0m\u001b[0;34m,\u001b[0m \u001b[0mself\u001b[0m\u001b[0;34m.\u001b[0m\u001b[0mmax_samples\u001b[0m\u001b[0;34m,\u001b[0m \u001b[0msample_weight\u001b[0m\u001b[0;34m=\u001b[0m\u001b[0msample_weight\u001b[0m\u001b[0;34m)\u001b[0m\u001b[0;34m\u001b[0m\u001b[0;34m\u001b[0m\u001b[0m\n\u001b[0m\u001b[1;32m    244\u001b[0m \u001b[0;34m\u001b[0m\u001b[0m\n\u001b[1;32m    245\u001b[0m     \u001b[0;32mdef\u001b[0m \u001b[0m_parallel_args\u001b[0m\u001b[0;34m(\u001b[0m\u001b[0mself\u001b[0m\u001b[0;34m)\u001b[0m\u001b[0;34m:\u001b[0m\u001b[0;34m\u001b[0m\u001b[0;34m\u001b[0m\u001b[0m\n",
            "\u001b[0;32m/usr/local/lib/python3.6/dist-packages/sklearn/ensemble/_bagging.py\u001b[0m in \u001b[0;36m_fit\u001b[0;34m(self, X, y, max_samples, max_depth, sample_weight)\u001b[0m\n\u001b[1;32m    281\u001b[0m         X, y = check_X_y(\n\u001b[1;32m    282\u001b[0m             \u001b[0mX\u001b[0m\u001b[0;34m,\u001b[0m \u001b[0my\u001b[0m\u001b[0;34m,\u001b[0m \u001b[0;34m[\u001b[0m\u001b[0;34m'csr'\u001b[0m\u001b[0;34m,\u001b[0m \u001b[0;34m'csc'\u001b[0m\u001b[0;34m]\u001b[0m\u001b[0;34m,\u001b[0m \u001b[0mdtype\u001b[0m\u001b[0;34m=\u001b[0m\u001b[0;32mNone\u001b[0m\u001b[0;34m,\u001b[0m \u001b[0mforce_all_finite\u001b[0m\u001b[0;34m=\u001b[0m\u001b[0;32mFalse\u001b[0m\u001b[0;34m,\u001b[0m\u001b[0;34m\u001b[0m\u001b[0;34m\u001b[0m\u001b[0m\n\u001b[0;32m--> 283\u001b[0;31m             \u001b[0mmulti_output\u001b[0m\u001b[0;34m=\u001b[0m\u001b[0;32mTrue\u001b[0m\u001b[0;34m\u001b[0m\u001b[0;34m\u001b[0m\u001b[0m\n\u001b[0m\u001b[1;32m    284\u001b[0m         )\n\u001b[1;32m    285\u001b[0m         \u001b[0;32mif\u001b[0m \u001b[0msample_weight\u001b[0m \u001b[0;32mis\u001b[0m \u001b[0;32mnot\u001b[0m \u001b[0;32mNone\u001b[0m\u001b[0;34m:\u001b[0m\u001b[0;34m\u001b[0m\u001b[0;34m\u001b[0m\u001b[0m\n",
            "\u001b[0;32m/usr/local/lib/python3.6/dist-packages/sklearn/utils/validation.py\u001b[0m in \u001b[0;36mcheck_X_y\u001b[0;34m(X, y, accept_sparse, accept_large_sparse, dtype, order, copy, force_all_finite, ensure_2d, allow_nd, multi_output, ensure_min_samples, ensure_min_features, y_numeric, warn_on_dtype, estimator)\u001b[0m\n\u001b[1;32m    756\u001b[0m     \u001b[0;32mif\u001b[0m \u001b[0mmulti_output\u001b[0m\u001b[0;34m:\u001b[0m\u001b[0;34m\u001b[0m\u001b[0;34m\u001b[0m\u001b[0m\n\u001b[1;32m    757\u001b[0m         y = check_array(y, 'csr', force_all_finite=True, ensure_2d=False,\n\u001b[0;32m--> 758\u001b[0;31m                         dtype=None)\n\u001b[0m\u001b[1;32m    759\u001b[0m     \u001b[0;32melse\u001b[0m\u001b[0;34m:\u001b[0m\u001b[0;34m\u001b[0m\u001b[0;34m\u001b[0m\u001b[0m\n\u001b[1;32m    760\u001b[0m         \u001b[0my\u001b[0m \u001b[0;34m=\u001b[0m \u001b[0mcolumn_or_1d\u001b[0m\u001b[0;34m(\u001b[0m\u001b[0my\u001b[0m\u001b[0;34m,\u001b[0m \u001b[0mwarn\u001b[0m\u001b[0;34m=\u001b[0m\u001b[0;32mTrue\u001b[0m\u001b[0;34m)\u001b[0m\u001b[0;34m\u001b[0m\u001b[0;34m\u001b[0m\u001b[0m\n",
            "\u001b[0;32m/usr/local/lib/python3.6/dist-packages/sklearn/utils/validation.py\u001b[0m in \u001b[0;36mcheck_array\u001b[0;34m(array, accept_sparse, accept_large_sparse, dtype, order, copy, force_all_finite, ensure_2d, allow_nd, ensure_min_samples, ensure_min_features, warn_on_dtype, estimator)\u001b[0m\n\u001b[1;32m    572\u001b[0m         \u001b[0;32mif\u001b[0m \u001b[0;32mnot\u001b[0m \u001b[0mallow_nd\u001b[0m \u001b[0;32mand\u001b[0m \u001b[0marray\u001b[0m\u001b[0;34m.\u001b[0m\u001b[0mndim\u001b[0m \u001b[0;34m>=\u001b[0m \u001b[0;36m3\u001b[0m\u001b[0;34m:\u001b[0m\u001b[0;34m\u001b[0m\u001b[0;34m\u001b[0m\u001b[0m\n\u001b[1;32m    573\u001b[0m             raise ValueError(\"Found array with dim %d. %s expected <= 2.\"\n\u001b[0;32m--> 574\u001b[0;31m                              % (array.ndim, estimator_name))\n\u001b[0m\u001b[1;32m    575\u001b[0m \u001b[0;34m\u001b[0m\u001b[0m\n\u001b[1;32m    576\u001b[0m         \u001b[0;32mif\u001b[0m \u001b[0mforce_all_finite\u001b[0m\u001b[0;34m:\u001b[0m\u001b[0;34m\u001b[0m\u001b[0;34m\u001b[0m\u001b[0m\n",
            "\u001b[0;31mValueError\u001b[0m: Found array with dim 5. Estimator expected <= 2."
          ]
        }
      ]
    },
    {
      "cell_type": "code",
      "metadata": {
        "id": "cVbLM_lQ4wK3",
        "colab_type": "code",
        "colab": {}
      },
      "source": [
        "## SVM val predict\n",
        "svm_predictions = svm_clf.predict(images_val_g2)"
      ],
      "execution_count": 0,
      "outputs": []
    },
    {
      "cell_type": "code",
      "metadata": {
        "id": "BCd1ywNKFoNN",
        "colab_type": "code",
        "outputId": "96d9419c-e0f3-457d-e60d-08b4fc1f825c",
        "colab": {
          "base_uri": "https://localhost:8080/",
          "height": 201
        }
      },
      "source": [
        "print(classification_report(labels_val, svm_predictions, target_names=hair_colours))"
      ],
      "execution_count": 0,
      "outputs": [
        {
          "output_type": "stream",
          "text": [
            "              precision    recall  f1-score   support\n",
            "\n",
            "       black       0.61      0.81      0.70      4007\n",
            "       blond       0.72      0.83      0.77      2852\n",
            "       brown       0.69      0.48      0.57      4507\n",
            "        gray       0.78      0.43      0.55       904\n",
            "\n",
            "    accuracy                           0.67     12270\n",
            "   macro avg       0.70      0.64      0.65     12270\n",
            "weighted avg       0.68      0.67      0.66     12270\n",
            "\n"
          ],
          "name": "stdout"
        }
      ]
    },
    {
      "cell_type": "code",
      "metadata": {
        "id": "H9OUDGvnLcm0",
        "colab_type": "code",
        "outputId": "68c1cd19-d549-4bcd-868b-d4c8d51a9912",
        "colab": {
          "base_uri": "https://localhost:8080/",
          "height": 401
        }
      },
      "source": [
        "## RF train\n",
        "rf_clf = BaggingClassifier(base_estimator=RandomForestClassifier(random_state=42), n_estimators=10, max_samples=1000, random_state=42)\n",
        "rf_clf.fit(images_train_g2, labels_train)"
      ],
      "execution_count": 0,
      "outputs": [
        {
          "output_type": "execute_result",
          "data": {
            "text/plain": [
              "BaggingClassifier(base_estimator=RandomForestClassifier(bootstrap=True,\n",
              "                                                        ccp_alpha=0.0,\n",
              "                                                        class_weight=None,\n",
              "                                                        criterion='gini',\n",
              "                                                        max_depth=None,\n",
              "                                                        max_features='auto',\n",
              "                                                        max_leaf_nodes=None,\n",
              "                                                        max_samples=None,\n",
              "                                                        min_impurity_decrease=0.0,\n",
              "                                                        min_impurity_split=None,\n",
              "                                                        min_samples_leaf=1,\n",
              "                                                        min_samples_split=2,\n",
              "                                                        min_weight_fraction_leaf=0.0,\n",
              "                                                        n_estimators=100,\n",
              "                                                        n_jobs=None,\n",
              "                                                        oob_score=False,\n",
              "                                                        random_state=42,\n",
              "                                                        verbose=0,\n",
              "                                                        warm_start=False),\n",
              "                  bootstrap=True, bootstrap_features=False, max_features=1.0,\n",
              "                  max_samples=1000, n_estimators=10, n_jobs=None,\n",
              "                  oob_score=False, random_state=42, verbose=0,\n",
              "                  warm_start=False)"
            ]
          },
          "metadata": {
            "tags": []
          },
          "execution_count": 48
        }
      ]
    },
    {
      "cell_type": "code",
      "metadata": {
        "id": "YNC3NmNfLxF9",
        "colab_type": "code",
        "colab": {}
      },
      "source": [
        "## RF val predict\n",
        "rf_predictions = rf_clf.predict(images_val_g2)"
      ],
      "execution_count": 0,
      "outputs": []
    },
    {
      "cell_type": "code",
      "metadata": {
        "id": "yxwOc4_HN2Rw",
        "colab_type": "code",
        "outputId": "424dcf3b-ce9b-44dc-c471-f9f642d524ed",
        "colab": {
          "base_uri": "https://localhost:8080/",
          "height": 201
        }
      },
      "source": [
        "print(classification_report(labels_val, rf_predictions, target_names=hair_colours))"
      ],
      "execution_count": 0,
      "outputs": [
        {
          "output_type": "stream",
          "text": [
            "              precision    recall  f1-score   support\n",
            "\n",
            "       black       0.70      0.83      0.76      4007\n",
            "       blond       0.71      0.83      0.77      2852\n",
            "       brown       0.70      0.62      0.66      4507\n",
            "        gray       0.83      0.22      0.35       904\n",
            "\n",
            "    accuracy                           0.71     12270\n",
            "   macro avg       0.74      0.63      0.63     12270\n",
            "weighted avg       0.71      0.71      0.69     12270\n",
            "\n"
          ],
          "name": "stdout"
        }
      ]
    },
    {
      "cell_type": "code",
      "metadata": {
        "id": "lB7PC_VqP79_",
        "colab_type": "code",
        "outputId": "9494c715-3022-47df-a297-1233d0b8b3be",
        "colab": {
          "base_uri": "https://localhost:8080/",
          "height": 117
        }
      },
      "source": [
        "## SGD train\n",
        "#sgd_clf = BaggingClassifier(base_estimator=SGDClassifier(loss=\"hinge\", penalty=\"l2\", max_iter=1000), n_estimators=10, max_samples=1000, random_state=42)\n",
        "sgd_clf = SGDClassifier(loss = 'log')\n",
        "sgd_clf.fit(images_train_2d, labels_train)"
      ],
      "execution_count": 0,
      "outputs": [
        {
          "output_type": "execute_result",
          "data": {
            "text/plain": [
              "SGDClassifier(alpha=0.0001, average=False, class_weight=None,\n",
              "              early_stopping=False, epsilon=0.1, eta0=0.0, fit_intercept=True,\n",
              "              l1_ratio=0.15, learning_rate='optimal', loss='log', max_iter=1000,\n",
              "              n_iter_no_change=5, n_jobs=None, penalty='l2', power_t=0.5,\n",
              "              random_state=None, shuffle=True, tol=0.001,\n",
              "              validation_fraction=0.1, verbose=0, warm_start=False)"
            ]
          },
          "metadata": {
            "tags": []
          },
          "execution_count": 54
        }
      ]
    },
    {
      "cell_type": "code",
      "metadata": {
        "id": "zRPjqYTOQCB3",
        "colab_type": "code",
        "colab": {}
      },
      "source": [
        "sgd_predictions = sgd_clf.predict(images_val_2d)"
      ],
      "execution_count": 0,
      "outputs": []
    },
    {
      "cell_type": "code",
      "metadata": {
        "id": "SB3NZyWiXIdH",
        "colab_type": "code",
        "outputId": "6ccec38c-b388-49f1-de00-b5af4e78276d",
        "colab": {
          "base_uri": "https://localhost:8080/",
          "height": 201
        }
      },
      "source": [
        "print(classification_report(labels_val, sgd_predictions, target_names=hair_colours))"
      ],
      "execution_count": 0,
      "outputs": [
        {
          "output_type": "stream",
          "text": [
            "              precision    recall  f1-score   support\n",
            "\n",
            "       black       0.68      0.93      0.79      4007\n",
            "       blond       0.80      0.88      0.84      2852\n",
            "       brown       0.85      0.49      0.62      4507\n",
            "        gray       0.69      0.83      0.76       904\n",
            "\n",
            "    accuracy                           0.75     12270\n",
            "   macro avg       0.76      0.78      0.75     12270\n",
            "weighted avg       0.77      0.75      0.74     12270\n",
            "\n"
          ],
          "name": "stdout"
        }
      ]
    },
    {
      "cell_type": "markdown",
      "metadata": {
        "id": "EQ11f3_DwUUw",
        "colab_type": "text"
      },
      "source": [
        "**Deep Learning ( CNN )**"
      ]
    },
    {
      "cell_type": "code",
      "metadata": {
        "id": "9dkbBfd2gq-E",
        "colab_type": "code",
        "colab": {}
      },
      "source": [
        "# convert labels to categories\n",
        "labels_train = to_categorical(labels_train)\n",
        "labels_val = to_categorical(labels_val)"
      ],
      "execution_count": 0,
      "outputs": []
    },
    {
      "cell_type": "code",
      "metadata": {
        "id": "l9_ycw9I7jJ7",
        "colab_type": "code",
        "colab": {}
      },
      "source": [
        "## Sequential Model CNN\n",
        "model = Sequential()\n",
        "model.add(Conv2D(128, kernel_size=4, activation='relu', input_shape=(48,48,3)))\n",
        "model.add(Conv2D(64, kernel_size=4, activation='relu'))\n",
        "model.add(Conv2D(64, kernel_size=4, activation='relu'))\n",
        "model.add(Flatten())\n",
        "model.add(Dense(4, activation='softmax'))"
      ],
      "execution_count": 0,
      "outputs": []
    },
    {
      "cell_type": "code",
      "metadata": {
        "id": "_Q3HDVP-ftsz",
        "colab_type": "code",
        "colab": {}
      },
      "source": [
        "#compile model using accuracy to measure model performance\n",
        "model.compile(optimizer='adam', loss='categorical_crossentropy', metrics=['accuracy'])"
      ],
      "execution_count": 0,
      "outputs": []
    },
    {
      "cell_type": "code",
      "metadata": {
        "id": "BPbEugKrf4Go",
        "colab_type": "code",
        "colab": {
          "base_uri": "https://localhost:8080/",
          "height": 204
        },
        "outputId": "24c0e716-437a-48b4-ee83-9f6ce58ac023"
      },
      "source": [
        "#train the model\n",
        "model.fit(images_train, labels_train, validation_data=(images_val, labels_val), epochs=4)"
      ],
      "execution_count": 8,
      "outputs": [
        {
          "output_type": "stream",
          "text": [
            "Train on 98479 samples, validate on 12270 samples\n",
            "Epoch 1/4\n",
            "98479/98479 [==============================] - 2844s 29ms/step - loss: 0.3975 - accuracy: 0.8499 - val_loss: 0.3327 - val_accuracy: 0.8717\n",
            "Epoch 2/4\n",
            "98479/98479 [==============================] - 2775s 28ms/step - loss: 0.3006 - accuracy: 0.8888 - val_loss: 0.2927 - val_accuracy: 0.8859\n",
            "Epoch 3/4\n",
            "98479/98479 [==============================] - 2746s 28ms/step - loss: 0.2631 - accuracy: 0.9024 - val_loss: 0.3051 - val_accuracy: 0.8825\n",
            "Epoch 4/4\n",
            "98479/98479 [==============================] - 2757s 28ms/step - loss: 0.2326 - accuracy: 0.9151 - val_loss: 0.2921 - val_accuracy: 0.8929\n"
          ],
          "name": "stdout"
        },
        {
          "output_type": "execute_result",
          "data": {
            "text/plain": [
              "<keras.callbacks.callbacks.History at 0x7f5a7eecaeb8>"
            ]
          },
          "metadata": {
            "tags": []
          },
          "execution_count": 8
        }
      ]
    },
    {
      "cell_type": "code",
      "metadata": {
        "id": "DrretO5EgC6E",
        "colab_type": "code",
        "colab": {}
      },
      "source": [
        "cnn_pred = model.predict(images_test_public)"
      ],
      "execution_count": 0,
      "outputs": []
    },
    {
      "cell_type": "code",
      "metadata": {
        "id": "AYviJDtXp3eC",
        "colab_type": "code",
        "colab": {}
      },
      "source": [
        "df_cnn = pd.DataFrame(data = cnn_pred[0:])\n",
        "pred = df_cnn.idxmax(axis=1)"
      ],
      "execution_count": 0,
      "outputs": []
    },
    {
      "cell_type": "code",
      "metadata": {
        "id": "VT15S69SuJJh",
        "colab_type": "code",
        "colab": {}
      },
      "source": [
        "## create Dataframe\n",
        "df = pd.DataFrame(columns = ['ID', 'Prediction'])\n",
        "df['ID'] = files_test_public\n",
        "df['Prediction'] = pred"
      ],
      "execution_count": 0,
      "outputs": []
    },
    {
      "cell_type": "code",
      "metadata": {
        "id": "KBbrzUUEupMt",
        "colab_type": "code",
        "colab": {}
      },
      "source": [
        "## export test result\n",
        "df.to_csv('45799857_04.csv',header=True, index=False)\n",
        "!cp 45799857_04.csv dataset_directory"
      ],
      "execution_count": 0,
      "outputs": []
    },
    {
      "cell_type": "code",
      "metadata": {
        "id": "E6hu8D6guuSi",
        "colab_type": "code",
        "colab": {}
      },
      "source": [
        ""
      ],
      "execution_count": 0,
      "outputs": []
    }
  ]
}