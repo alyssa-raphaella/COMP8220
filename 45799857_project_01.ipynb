{
  "nbformat": 4,
  "nbformat_minor": 0,
  "metadata": {
    "colab": {
      "name": "45799857_project_01.ipynb",
      "provenance": [],
      "machine_shape": "hm",
      "authorship_tag": "ABX9TyPiQXAegnjX0+CXe271XuRH",
      "include_colab_link": true
    },
    "kernelspec": {
      "name": "python3",
      "display_name": "Python 3"
    }
  },
  "cells": [
    {
      "cell_type": "markdown",
      "metadata": {
        "id": "view-in-github",
        "colab_type": "text"
      },
      "source": [
        "<a href=\"https://colab.research.google.com/github/alyssa-raphaella/COMP8220/blob/master/45799857_project_01.ipynb\" target=\"_parent\"><img src=\"https://colab.research.google.com/assets/colab-badge.svg\" alt=\"Open In Colab\"/></a>"
      ]
    },
    {
      "cell_type": "code",
      "metadata": {
        "id": "XppJPuQ5dYPu",
        "colab_type": "code",
        "colab": {}
      },
      "source": [
        "import numpy as np\n",
        "from os.path import join\n",
        "import matplotlib.pyplot as plt\n",
        "import tensorflow as tf\n",
        "from tensorflow.keras import layers, models\n",
        "from google.colab import drive\n",
        "\n",
        "from sklearn.svm import SVC\n",
        "from sklearn.ensemble import RandomForestClassifier\n",
        "from sklearn.linear_model import SGDClassifier\n",
        "from sklearn.ensemble import VotingClassifier\n",
        "from sklearn.ensemble import BaggingClassifier\n",
        "from sklearn.metrics import classification_report\n",
        "import pandas as pd\n",
        "from google.colab import files"
      ],
      "execution_count": 0,
      "outputs": []
    },
    {
      "cell_type": "code",
      "metadata": {
        "id": "3XOCYoFydqP_",
        "colab_type": "code",
        "outputId": "25a0b766-2d12-4606-e6d0-7ece48aa8477",
        "colab": {
          "base_uri": "https://localhost:8080/",
          "height": 33
        }
      },
      "source": [
        "# mount drive\n",
        "drive.mount('/content/gdrive', force_remount=True)\n",
        "root_path = 'gdrive/My Drive/COMP8220-GColab/'\n",
        "\n",
        "# import directory from gdrive\n",
        "dataset_directory = '/content/gdrive/My Drive/COMP8220 - Datasets/Project/'"
      ],
      "execution_count": 2,
      "outputs": [
        {
          "output_type": "stream",
          "text": [
            "Mounted at /content/gdrive\n"
          ],
          "name": "stdout"
        }
      ]
    },
    {
      "cell_type": "code",
      "metadata": {
        "id": "euH8yt-dd3Js",
        "colab_type": "code",
        "colab": {}
      },
      "source": [
        "# import datasets\n",
        "images_train = np.load(join(dataset_directory, 'train_images.npy'))\n",
        "labels_train = np.load(join(dataset_directory, 'train_labels.npy')) # [black, blond, brown, gray]\n",
        "\n",
        "images_val = np.load(join(dataset_directory, 'val_images.npy'))\n",
        "labels_val = np.load(join(dataset_directory, 'val_labels.npy'))\n",
        "files_val = np.load(join(dataset_directory, 'val_files.npy'))\n",
        "\n",
        "images_test_public = np.load(join(dataset_directory, 'test_public_images.npy'))\n",
        "files_test_public = np.load(join(dataset_directory, 'test_public_files.npy'))"
      ],
      "execution_count": 0,
      "outputs": []
    },
    {
      "cell_type": "code",
      "metadata": {
        "id": "mR9cgCxNeGhs",
        "colab_type": "code",
        "colab": {}
      },
      "source": [
        "image_size = 48\n",
        "hair_colours = ['black', 'blond', 'brown', 'gray']\n",
        "\n",
        "# reshape and scale values in [0,1] interval \n",
        "images_train = images_train.reshape([-1, image_size, image_size, 3]) / 255.0\n",
        "images_val = images_val.reshape([-1, image_size, image_size, 3]) / 255.0\n",
        "images_test_public = images_test_public.reshape([-1, image_size, image_size, 3]) / 255.0"
      ],
      "execution_count": 0,
      "outputs": []
    },
    {
      "cell_type": "code",
      "metadata": {
        "id": "_7bS3R80NvOk",
        "colab_type": "code",
        "colab": {
          "base_uri": "https://localhost:8080/",
          "height": 50
        },
        "outputId": "f284d1d3-0480-458d-a2c1-90bdf8cd728d"
      },
      "source": [
        "# transform from 4D to 2D\n",
        "vol_shape = images_train.shape[1:4]\n",
        "n_vol =  np.prod(vol_shape)\n",
        "images_train_2d = images_train.reshape(images_train.shape[0], n_vol)\n",
        "images_val_2d = images_val.reshape(images_val.shape[0], n_vol)\n",
        "images_test_public_2d = images_test_public.reshape(images_test_public.shape[0], n_vol)\n",
        "\n",
        "print(images_train_2d.shape)\n",
        "print(images_val_2d.shape)\n",
        "images_test_public_2d.shape"
      ],
      "execution_count": 5,
      "outputs": [
        {
          "output_type": "stream",
          "text": [
            "(12270, 6912)\n",
            "(98479, 6912)\n"
          ],
          "name": "stdout"
        }
      ]
    },
    {
      "cell_type": "code",
      "metadata": {
        "id": "6X-6gVMm-ESp",
        "colab_type": "code",
        "outputId": "11e1fe56-bedf-404c-eb61-853eef2b4c78",
        "colab": {
          "base_uri": "https://localhost:8080/",
          "height": 201
        }
      },
      "source": [
        "## SVM train\n",
        "svm_clf = BaggingClassifier(base_estimator = SVC(kernel = 'linear', random_state = 42), n_estimators = 10, max_samples = 1000, random_state = 42)\n",
        "svm_clf.fit(images_train_2d, labels_train)\n",
        "#svm = SVC(kernel=\"linear\")\n",
        "#svm.fit(images_train_pca[0:30000], labels_train[0:30000])"
      ],
      "execution_count": 0,
      "outputs": [
        {
          "output_type": "execute_result",
          "data": {
            "text/plain": [
              "BaggingClassifier(base_estimator=SVC(C=1.0, break_ties=False, cache_size=200,\n",
              "                                     class_weight=None, coef0=0.0,\n",
              "                                     decision_function_shape='ovr', degree=3,\n",
              "                                     gamma='scale', kernel='linear',\n",
              "                                     max_iter=-1, probability=False,\n",
              "                                     random_state=42, shrinking=True, tol=0.001,\n",
              "                                     verbose=False),\n",
              "                  bootstrap=True, bootstrap_features=False, max_features=1.0,\n",
              "                  max_samples=1000, n_estimators=10, n_jobs=None,\n",
              "                  oob_score=False, random_state=42, verbose=0,\n",
              "                  warm_start=False)"
            ]
          },
          "metadata": {
            "tags": []
          },
          "execution_count": 6
        }
      ]
    },
    {
      "cell_type": "code",
      "metadata": {
        "id": "Bjr7RZ1VW4dY",
        "colab_type": "code",
        "colab": {
          "base_uri": "https://localhost:8080/",
          "height": 401
        },
        "outputId": "d55b019e-1f84-4a5c-da11-d6a6362079e3"
      },
      "source": [
        "## RF train\n",
        "rf_clf = BaggingClassifier(base_estimator=RandomForestClassifier(random_state=42), n_estimators=10, max_samples=1000, random_state=42)\n",
        "rf_clf.fit(images_train_2d, labels_train)"
      ],
      "execution_count": 29,
      "outputs": [
        {
          "output_type": "execute_result",
          "data": {
            "text/plain": [
              "BaggingClassifier(base_estimator=RandomForestClassifier(bootstrap=True,\n",
              "                                                        ccp_alpha=0.0,\n",
              "                                                        class_weight=None,\n",
              "                                                        criterion='gini',\n",
              "                                                        max_depth=None,\n",
              "                                                        max_features='auto',\n",
              "                                                        max_leaf_nodes=None,\n",
              "                                                        max_samples=None,\n",
              "                                                        min_impurity_decrease=0.0,\n",
              "                                                        min_impurity_split=None,\n",
              "                                                        min_samples_leaf=1,\n",
              "                                                        min_samples_split=2,\n",
              "                                                        min_weight_fraction_leaf=0.0,\n",
              "                                                        n_estimators=100,\n",
              "                                                        n_jobs=None,\n",
              "                                                        oob_score=False,\n",
              "                                                        random_state=42,\n",
              "                                                        verbose=0,\n",
              "                                                        warm_start=False),\n",
              "                  bootstrap=True, bootstrap_features=False, max_features=1.0,\n",
              "                  max_samples=1000, n_estimators=10, n_jobs=None,\n",
              "                  oob_score=False, random_state=42, verbose=0,\n",
              "                  warm_start=False)"
            ]
          },
          "metadata": {
            "tags": []
          },
          "execution_count": 29
        }
      ]
    },
    {
      "cell_type": "code",
      "metadata": {
        "id": "OP9uj21HnRb-",
        "colab_type": "code",
        "colab": {
          "base_uri": "https://localhost:8080/",
          "height": 318
        },
        "outputId": "9bba3231-e14c-45df-b5ca-8266f452d3f1"
      },
      "source": [
        "## SGD train\n",
        "sgd_clf = BaggingClassifier(base_estimator=SGDClassifier(loss=\"hinge\", penalty=\"l2\", max_iter=1000), n_estimators=10, max_samples=1000, random_state=42)\n",
        "sgd_clf.fit(images_train_2d, labels_train)"
      ],
      "execution_count": 44,
      "outputs": [
        {
          "output_type": "execute_result",
          "data": {
            "text/plain": [
              "BaggingClassifier(base_estimator=SGDClassifier(alpha=0.0001, average=False,\n",
              "                                               class_weight=None,\n",
              "                                               early_stopping=False,\n",
              "                                               epsilon=0.1, eta0=0.0,\n",
              "                                               fit_intercept=True,\n",
              "                                               l1_ratio=0.15,\n",
              "                                               learning_rate='optimal',\n",
              "                                               loss='hinge', max_iter=1000,\n",
              "                                               n_iter_no_change=5, n_jobs=None,\n",
              "                                               penalty='l2', power_t=0.5,\n",
              "                                               random_state=None, shuffle=True,\n",
              "                                               tol=0.001,\n",
              "                                               validation_fraction=0.1,\n",
              "                                               verbose=0, warm_start=False),\n",
              "                  bootstrap=True, bootstrap_features=False, max_features=1.0,\n",
              "                  max_samples=1000, n_estimators=10, n_jobs=None,\n",
              "                  oob_score=False, random_state=42, verbose=0,\n",
              "                  warm_start=False)"
            ]
          },
          "metadata": {
            "tags": []
          },
          "execution_count": 44
        }
      ]
    },
    {
      "cell_type": "code",
      "metadata": {
        "id": "hDTrTdhMdJRO",
        "colab_type": "code",
        "colab": {}
      },
      "source": [
        "## Voting train\n",
        "voting_clf = VotingClassifier( estimators=[('svc', svm_clf), ('rf', rf_clf), ('sgd', sgd_clf)], voting = 'soft')\n",
        "voting_clf.fit(images_train_2d, labels_train)    "
      ],
      "execution_count": 0,
      "outputs": []
    },
    {
      "cell_type": "code",
      "metadata": {
        "id": "Xau_xkgIRSEI",
        "colab_type": "code",
        "colab": {}
      },
      "source": [
        "## SVM val predict\n",
        "svm_predictions = svm_clf.predict(images_val_2d)"
      ],
      "execution_count": 0,
      "outputs": []
    },
    {
      "cell_type": "code",
      "metadata": {
        "id": "g3eElHCvZjx1",
        "colab_type": "code",
        "colab": {}
      },
      "source": [
        "## RF val predict\n",
        "rf_predictions = rf_clf.predict(images_val_2d)"
      ],
      "execution_count": 0,
      "outputs": []
    },
    {
      "cell_type": "code",
      "metadata": {
        "id": "PaiGotjKrF_p",
        "colab_type": "code",
        "colab": {}
      },
      "source": [
        "sgd_predictions = sgd_clf.predict(images_val_2d)"
      ],
      "execution_count": 0,
      "outputs": []
    },
    {
      "cell_type": "code",
      "metadata": {
        "id": "zSCyADEEhczT",
        "colab_type": "code",
        "colab": {}
      },
      "source": [
        "voting_predictions = voting_clf.predict(images_val_2d)"
      ],
      "execution_count": 0,
      "outputs": []
    },
    {
      "cell_type": "code",
      "metadata": {
        "id": "nf-iXUSTj-1e",
        "colab_type": "code",
        "outputId": "9387397a-48d9-4361-a509-2d4d902a2d6b",
        "colab": {
          "base_uri": "https://localhost:8080/",
          "height": 201
        }
      },
      "source": [
        "print(classification_report(labels_val, sgd_predictions, target_names=hair_colours))"
      ],
      "execution_count": 46,
      "outputs": [
        {
          "output_type": "stream",
          "text": [
            "              precision    recall  f1-score   support\n",
            "\n",
            "       black       0.71      0.84      0.77      4007\n",
            "       blond       0.77      0.84      0.80      2852\n",
            "       brown       0.74      0.65      0.69      4507\n",
            "        gray       0.84      0.43      0.57       904\n",
            "\n",
            "    accuracy                           0.74     12270\n",
            "   macro avg       0.77      0.69      0.71     12270\n",
            "weighted avg       0.75      0.74      0.74     12270\n",
            "\n"
          ],
          "name": "stdout"
        }
      ]
    },
    {
      "cell_type": "code",
      "metadata": {
        "id": "GdOE7WPFIIzq",
        "colab_type": "code",
        "colab": {}
      },
      "source": [
        "## SVM test predict\n",
        "svm_test_prediction = svm_clf.predict(images_test_public_2d)"
      ],
      "execution_count": 0,
      "outputs": []
    },
    {
      "cell_type": "code",
      "metadata": {
        "id": "tt38fVOHaH2q",
        "colab_type": "code",
        "colab": {}
      },
      "source": [
        "## SVM test predict\n",
        "rf_test_prediction = rf_clf.predict(images_test_public_2d)"
      ],
      "execution_count": 0,
      "outputs": []
    },
    {
      "cell_type": "code",
      "metadata": {
        "id": "C5W52cPJMzpe",
        "colab_type": "code",
        "colab": {}
      },
      "source": [
        "## create Dataframe\n",
        "df = pd.DataFrame(columns = ['ID', 'Prediction'])\n",
        "df['ID'] = files_test_public\n",
        "df['Prediction'] = test_prediction"
      ],
      "execution_count": 0,
      "outputs": []
    },
    {
      "cell_type": "code",
      "metadata": {
        "id": "eUnuLZg6PCHf",
        "colab_type": "code",
        "colab": {}
      },
      "source": [
        "## export test result\n",
        "df.to_csv('45799857_01.csv',header=True, index=False)\n",
        "files.download('45799857_01.csv')"
      ],
      "execution_count": 0,
      "outputs": []
    },
    {
      "cell_type": "code",
      "metadata": {
        "id": "27dQclFkCOtm",
        "colab_type": "code",
        "colab": {}
      },
      "source": [
        "from sklearn.decomposition import PCA\n",
        "\n",
        "pca = PCA()\n",
        "pca.fit(images_train_2d)\n",
        "pca = PCA(n_components = 0.95)\n",
        "images_train_pca = pca.fit_transform(images_train_2d)"
      ],
      "execution_count": 0,
      "outputs": []
    },
    {
      "cell_type": "code",
      "metadata": {
        "id": "Y6MJDhnQQb-Y",
        "colab_type": "code",
        "colab": {
          "base_uri": "https://localhost:8080/",
          "height": 50
        },
        "outputId": "7409fed1-b13e-45ed-92ce-90b9752da2b0"
      },
      "source": [
        "pca = PCA(n_components = 293)\n",
        "images_val_pca = pca.fit_transform(images_val_2d)\n",
        "\n",
        "print(images_train_pca.shape)\n",
        "print(images_val_pca.shape)"
      ],
      "execution_count": 11,
      "outputs": [
        {
          "output_type": "stream",
          "text": [
            "(98479, 293)\n",
            "(12270, 293)\n"
          ],
          "name": "stdout"
        }
      ]
    },
    {
      "cell_type": "code",
      "metadata": {
        "id": "XidYA5mmYMd1",
        "colab_type": "code",
        "outputId": "3f103241-aa1a-4965-d52f-0187b72a789c",
        "colab": {
          "base_uri": "https://localhost:8080/",
          "height": 67
        }
      },
      "source": [
        "from sklearn.neighbors import KNeighborsClassifier\n",
        "from sklearn.model_selection import cross_val_score\n",
        "\n",
        "knn_cv = KNeighborsClassifier(n_neighbors=1)\n",
        "knn_cv.fit(voxel_by_time, labels_train)\n",
        "#train model with cv of 10 \n",
        "#cv_scores = cross_val_score(knn_cv, voxel_by_time, labels_train, cv=10)\n",
        "#print(\"cv_scores mean:{}\".format(np.mean(cv_scores)))\n",
        "#print(labels_train.shape)\n",
        "#print(voxel_by_time.shape)"
      ],
      "execution_count": 8,
      "outputs": [
        {
          "output_type": "execute_result",
          "data": {
            "text/plain": [
              "KNeighborsClassifier(algorithm='auto', leaf_size=30, metric='minkowski',\n",
              "                     metric_params=None, n_jobs=None, n_neighbors=1, p=2,\n",
              "                     weights='uniform')"
            ]
          },
          "metadata": {
            "tags": []
          },
          "execution_count": 8
        }
      ]
    },
    {
      "cell_type": "code",
      "metadata": {
        "id": "4S0n0u9P4BEd",
        "colab_type": "code",
        "colab": {}
      },
      "source": [
        "predictions = knn_cv.predict(images_val_rs[0:2000])"
      ],
      "execution_count": 0,
      "outputs": []
    },
    {
      "cell_type": "code",
      "metadata": {
        "id": "ky4oC_Hp971j",
        "colab_type": "code",
        "outputId": "83b01ba9-d439-4951-d44c-bf78a3e54ce4",
        "colab": {
          "base_uri": "https://localhost:8080/",
          "height": 201
        }
      },
      "source": [
        "from sklearn.metrics import classification_report\n",
        "\n",
        "print(classification_report(labels_val[0:2000], predictions,\n",
        "\ttarget_names=hair_colours))"
      ],
      "execution_count": 20,
      "outputs": [
        {
          "output_type": "stream",
          "text": [
            "              precision    recall  f1-score   support\n",
            "\n",
            "       black       0.67      0.54      0.60       690\n",
            "       blond       0.59      0.83      0.69       448\n",
            "       brown       0.54      0.52      0.53       720\n",
            "        gray       0.40      0.35      0.37       142\n",
            "\n",
            "    accuracy                           0.59      2000\n",
            "   macro avg       0.55      0.56      0.55      2000\n",
            "weighted avg       0.59      0.59      0.58      2000\n",
            "\n"
          ],
          "name": "stdout"
        }
      ]
    },
    {
      "cell_type": "code",
      "metadata": {
        "id": "SqSy-IR3HTSK",
        "colab_type": "code",
        "colab": {
          "base_uri": "https://localhost:8080/",
          "height": 33
        },
        "outputId": "229cad6c-3cdc-4b7f-d3e6-5178fce401cd"
      },
      "source": [
        "images_test_public.shape"
      ],
      "execution_count": 9,
      "outputs": [
        {
          "output_type": "execute_result",
          "data": {
            "text/plain": [
              "(11921, 48, 48, 3)"
            ]
          },
          "metadata": {
            "tags": []
          },
          "execution_count": 9
        }
      ]
    },
    {
      "cell_type": "code",
      "metadata": {
        "id": "97FAjh0LG2Fu",
        "colab_type": "code",
        "colab": {
          "base_uri": "https://localhost:8080/",
          "height": 33
        },
        "outputId": "c534a0d5-1308-489c-895b-4452fdac639b"
      },
      "source": [
        "images_val_pca.shape"
      ],
      "execution_count": 14,
      "outputs": [
        {
          "output_type": "execute_result",
          "data": {
            "text/plain": [
              "(12270, 293)"
            ]
          },
          "metadata": {
            "tags": []
          },
          "execution_count": 14
        }
      ]
    },
    {
      "cell_type": "code",
      "metadata": {
        "id": "aBkm0cQXP3_t",
        "colab_type": "code",
        "colab": {}
      },
      "source": [
        ""
      ],
      "execution_count": 0,
      "outputs": []
    }
  ]
}