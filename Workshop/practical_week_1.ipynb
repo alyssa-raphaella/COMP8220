{
  "nbformat": 4,
  "nbformat_minor": 0,
  "metadata": {
    "kernelspec": {
      "display_name": "Python 3",
      "language": "python",
      "name": "python3"
    },
    "language_info": {
      "codemirror_mode": {
        "name": "ipython",
        "version": 3
      },
      "file_extension": ".py",
      "mimetype": "text/x-python",
      "name": "python",
      "nbconvert_exporter": "python",
      "pygments_lexer": "ipython3",
      "version": "3.7.4"
    },
    "colab": {
      "name": "practical-week-1.ipynb",
      "provenance": [],
      "collapsed_sections": [],
      "toc_visible": true,
      "include_colab_link": true
    }
  },
  "cells": [
    {
      "cell_type": "markdown",
      "metadata": {
        "id": "view-in-github",
        "colab_type": "text"
      },
      "source": [
        "<a href=\"https://colab.research.google.com/github/alyssa-raphaella/COMP8220/blob/master/practical_week_1.ipynb\" target=\"_parent\"><img src=\"https://colab.research.google.com/assets/colab-badge.svg\" alt=\"Open In Colab\"/></a>"
      ]
    },
    {
      "cell_type": "markdown",
      "metadata": {
        "id": "S0U7vnRsVjyJ",
        "colab_type": "text"
      },
      "source": [
        "# 1. Python 3"
      ]
    },
    {
      "cell_type": "code",
      "metadata": {
        "id": "TnSqMxkzV7RD",
        "colab_type": "code",
        "colab": {
          "base_uri": "https://localhost:8080/",
          "height": 120
        },
        "outputId": "7927aaae-6610-4693-d8cb-178178f7d4c1"
      },
      "source": [
        "from google.colab import drive\n",
        "\n",
        "drive.mount('/content/gdrive', force_remount=True)\n",
        "root_path = 'gdrive/My Drive/COMP8220-GColab/'"
      ],
      "execution_count": 1,
      "outputs": [
        {
          "output_type": "stream",
          "text": [
            "Go to this URL in a browser: https://accounts.google.com/o/oauth2/auth?client_id=947318989803-6bn6qk8qdgf4n4g3pfee6491hc0brc4i.apps.googleusercontent.com&redirect_uri=urn%3aietf%3awg%3aoauth%3a2.0%3aoob&response_type=code&scope=email%20https%3a%2f%2fwww.googleapis.com%2fauth%2fdocs.test%20https%3a%2f%2fwww.googleapis.com%2fauth%2fdrive%20https%3a%2f%2fwww.googleapis.com%2fauth%2fdrive.photos.readonly%20https%3a%2f%2fwww.googleapis.com%2fauth%2fpeopleapi.readonly\n",
            "\n",
            "Enter your authorization code:\n",
            "··········\n",
            "Mounted at /content/gdrive\n"
          ],
          "name": "stdout"
        }
      ]
    },
    {
      "cell_type": "markdown",
      "metadata": {
        "id": "cL2g3s7cVjyL",
        "colab_type": "text"
      },
      "source": [
        "## Python Tutorial  \n",
        "We will use Python as programming language in COMP8220. You can find a basic introduction to Python [here](https://www.tutorialspoint.com/python/index.htm). We do not teach Python in this unit and expect that you already know this Programming language.   "
      ]
    },
    {
      "cell_type": "markdown",
      "metadata": {
        "id": "MUe2ZZffVjyM",
        "colab_type": "text"
      },
      "source": [
        "# 2. Jupyter Notebook"
      ]
    },
    {
      "cell_type": "markdown",
      "metadata": {
        "id": "zBZoMPtbVjyN",
        "colab_type": "text"
      },
      "source": [
        "[Here](https://www.datacamp.com/community/tutorials/tutorial-jupyter-notebook) is a good overview of Jupyter notebooks, how to install, run, and use them for data science."
      ]
    },
    {
      "cell_type": "markdown",
      "metadata": {
        "id": "lkPnZ0CqVjyO",
        "colab_type": "text"
      },
      "source": [
        "# 3. Scikit-learn tools: NumPy, Matplotlib, Pandas, and SciPy"
      ]
    },
    {
      "cell_type": "markdown",
      "metadata": {
        "id": "Q2AZxLvsVjyP",
        "colab_type": "text"
      },
      "source": [
        "[Scikit-learn](https://scikit-learn.org/stable/)  is an open source project, meaning that it is free to use and distribute, and anyone can easily obtain the source code to see what is going on behind the scenes. The scikit-learn project is constantly being developed and improved, and it has a very active user community. It contains a number of state-of-the-art machine learning algorithms, as well as comprehensive documentation about each algorithm. Scikit-learn is a very popular tool, and the most prominent Python library for machine learning. It is widely used in industry and academia, and a wealth of tutorials and code snippets are available online. Scikit-learn works well with a number of other scientific Python tools."
      ]
    },
    {
      "cell_type": "markdown",
      "metadata": {
        "id": "vfMekhlXVjyQ",
        "colab_type": "text"
      },
      "source": [
        "## 3.1 NumPy"
      ]
    },
    {
      "cell_type": "markdown",
      "metadata": {
        "id": "WS0Pk6DEVjyR",
        "colab_type": "text"
      },
      "source": [
        "NumPy is one of the fundamental packages for scientific computing in Python. It\n",
        "contains functionality for multidimensional arrays, high-level mathematical functions\n",
        "such as linear algebra operations and the Fourier transform, and pseudorandom\n",
        "number generators.\n",
        "\n",
        "In Scikit-learn, the NumPy array is the fundamental data structure. Scikit-learn\n",
        "takes in data in the form of NumPy arrays. Any data you’re using will have to be converted\n",
        "to a NumPy array. The core functionality of NumPy is the ndarray class, a\n",
        "multidimensional (n-dimensional) array. All elements of the array must be of the\n",
        "same type. A NumPy array looks like this:"
      ]
    },
    {
      "cell_type": "code",
      "metadata": {
        "id": "Thrnu7-_VjyS",
        "colab_type": "code",
        "colab": {}
      },
      "source": [
        "import numpy as np"
      ],
      "execution_count": 0,
      "outputs": []
    },
    {
      "cell_type": "code",
      "metadata": {
        "id": "MexXZMmTVjyW",
        "colab_type": "code",
        "colab": {
          "base_uri": "https://localhost:8080/",
          "height": 67
        },
        "outputId": "174a5719-5cde-460e-e6ac-f2a2544a776a"
      },
      "source": [
        "x = np.array([[1, 2, 3], [4, 5, 6]])\n",
        "print(\"x:\\n{}\".format(x))"
      ],
      "execution_count": 3,
      "outputs": [
        {
          "output_type": "stream",
          "text": [
            "x:\n",
            "[[1 2 3]\n",
            " [4 5 6]]\n"
          ],
          "name": "stdout"
        }
      ]
    },
    {
      "cell_type": "markdown",
      "metadata": {
        "id": "Pv4lGmYqVjya",
        "colab_type": "text"
      },
      "source": [
        "## 3.2 Matplotlib"
      ]
    },
    {
      "cell_type": "markdown",
      "metadata": {
        "id": "z2vizKewVjya",
        "colab_type": "text"
      },
      "source": [
        "Matplotlib is the primary scientific plotting library in Python. It provides functions\n",
        "for making publication-quality visualizations such as line charts, histograms, scatter\n",
        "plots, and so on. Visualizing your data and different aspects of your analysis can give\n",
        "you important insights, and we will be using Matplotlib for all our visualizations.\n",
        "When working inside the Jupyter Notebook, you can show figures directly in the\n",
        "browser by using the Matplotlib notebook and Matplotlib inline commands.\n",
        "We recommend using Matplotlib notebook, which provides an interactive environment."
      ]
    },
    {
      "cell_type": "code",
      "metadata": {
        "id": "vVmUar44Vjyb",
        "colab_type": "code",
        "colab": {}
      },
      "source": [
        "import matplotlib.pyplot as plt"
      ],
      "execution_count": 0,
      "outputs": []
    },
    {
      "cell_type": "markdown",
      "metadata": {
        "id": "64TCDvHmVjye",
        "colab_type": "text"
      },
      "source": [
        "* **Task 1**: Generate a sequence x of numbers from -10 to 10 with 100 steps in between.\n",
        "* **Task 2**: Create a second array y using sine.\n",
        "* **Task 3**: Use the plot function to plot x against y using a line style and x as a marker."
      ]
    },
    {
      "cell_type": "code",
      "metadata": {
        "id": "yYaEsSiYVjye",
        "colab_type": "code",
        "colab": {
          "base_uri": "https://localhost:8080/",
          "height": 281
        },
        "outputId": "a1ad71f1-04e8-41ec-b6d2-7560854569c0"
      },
      "source": [
        "# Generate a sequence of numbers from -10 to 10 with 100 steps in between.\n",
        "x = np.linspace(-10, 10, 100)\n",
        "\n",
        "# Create a second array using sine.\n",
        "y = np.sin(x)\n",
        "\n",
        "# The plot function generates a line chart plotting x against y.\n",
        "plt.plot(x, y, marker=\"x\")"
      ],
      "execution_count": 5,
      "outputs": [
        {
          "output_type": "execute_result",
          "data": {
            "text/plain": [
              "[<matplotlib.lines.Line2D at 0x7f12895e94e0>]"
            ]
          },
          "metadata": {
            "tags": []
          },
          "execution_count": 5
        },
        {
          "output_type": "display_data",
          "data": {
            "image/png": "[encoded data removed]",
            "text/plain": [
              "<Figure size 432x288 with 1 Axes>"
            ]
          },
          "metadata": {
            "tags": [],
            "needs_background": "light"
          }
        }
      ]
    },
    {
      "cell_type": "markdown",
      "metadata": {
        "id": "EZV8kN1XVjyh",
        "colab_type": "text"
      },
      "source": [
        "## 3.3 Pandas"
      ]
    },
    {
      "cell_type": "markdown",
      "metadata": {
        "id": "bKEHEv4EVjyh",
        "colab_type": "text"
      },
      "source": [
        "Pandas is a Python library for data wrangling and analysis. It is built around a data\n",
        "structure called the DataFrame that is modeled after the R DataFrame. Simply put, a\n",
        "Pandas DataFrame is a table, similar to an Excel spreadsheet. Pandas provides a great\n",
        "range of methods to modify and operate on this table; in particular, it allows SQL-like\n",
        "queries and joins of tables. In contrast to NumPy, which requires that all entries in an\n",
        "array be of the same type, Pandas allows each column to have a separate type (for\n",
        "example, integers, dates, floating-point numbers, and strings). "
      ]
    },
    {
      "cell_type": "markdown",
      "metadata": {
        "id": "qUKarzhdVjyi",
        "colab_type": "text"
      },
      "source": [
        "* **Task 4**:  Create a Python dictionary that contains the name of four persons, their age (some of them > 30), and their residence and then generate a Pandas DataFrame.\n",
        "* **Task 5**:  Display all rows where the age is greater than 30."
      ]
    },
    {
      "cell_type": "code",
      "metadata": {
        "id": "sBg4GZu8Vjyj",
        "colab_type": "code",
        "colab": {
          "base_uri": "https://localhost:8080/",
          "height": 50
        },
        "outputId": "2b793d03-6551-4c16-f42a-21a84ce9023d"
      },
      "source": [
        "import pandas as pd\n",
        "from IPython.display import display\n",
        "\n",
        "# Task 4\n",
        "data = {'Name': ['Bruno', 'Monty', 'Benjie', 'Eggy'],\n",
        "        'Location': ['UK', 'USA', 'Belgium', 'Germany'],\n",
        "        'Age': [48, 28, 14, 16]}\n",
        "\n",
        "df_data = pd.DataFrame(data)\n",
        "\n",
        "# Task 5\n",
        "print(df_data[df_data.Age > 30])"
      ],
      "execution_count": 10,
      "outputs": [
        {
          "output_type": "stream",
          "text": [
            "    Name Location  Age\n",
            "0  Bruno       UK   48\n"
          ],
          "name": "stdout"
        }
      ]
    },
    {
      "cell_type": "markdown",
      "metadata": {
        "id": "fZOGe-dXVjyl",
        "colab_type": "text"
      },
      "source": [
        "## 3.4 Scipy"
      ]
    },
    {
      "cell_type": "markdown",
      "metadata": {
        "id": "r8_WNkGwVjym",
        "colab_type": "text"
      },
      "source": [
        "SciPy is a collection of functions for scientific computing in Python. It provides, among other functionality, advanced linear algebra routines, mathematical function optimization, signal processing, special mathematical functions, and statistical distri‐ butions. scikit-learn draws from SciPy’s collection of functions for implementing its algorithms. The most important part of SciPy for us is scipy.sparse: this provides sparse matrices, which are another representation that is used for data in scikit- learn. Sparse matrices are used whenever we want to store a 2D array that contains mostly zeros:"
      ]
    },
    {
      "cell_type": "markdown",
      "metadata": {
        "id": "DWKWZ5pXVjym",
        "colab_type": "text"
      },
      "source": [
        "* **Task 6**: Create a 2D NumPy array where the diagonal from top left to bottom right consists of only 1s, and all other cells of 0s."
      ]
    },
    {
      "cell_type": "code",
      "metadata": {
        "scrolled": true,
        "id": "QfZn9PpOVjyn",
        "colab_type": "code",
        "colab": {
          "base_uri": "https://localhost:8080/",
          "height": 84
        },
        "outputId": "281e72b4-2e18-4c81-d475-a8f217b1e95d"
      },
      "source": [
        "from scipy import sparse\n",
        "\n",
        "# Task 6\n",
        "array = np.eye(4)\n",
        "array"
      ],
      "execution_count": 11,
      "outputs": [
        {
          "output_type": "execute_result",
          "data": {
            "text/plain": [
              "array([[1., 0., 0., 0.],\n",
              "       [0., 1., 0., 0.],\n",
              "       [0., 0., 1., 0.],\n",
              "       [0., 0., 0., 1.]])"
            ]
          },
          "metadata": {
            "tags": []
          },
          "execution_count": 11
        }
      ]
    },
    {
      "cell_type": "markdown",
      "metadata": {
        "id": "-HjA-29YVjyq",
        "colab_type": "text"
      },
      "source": [
        "## 3.5 Life Satisfaction"
      ]
    },
    {
      "cell_type": "markdown",
      "metadata": {
        "id": "9NS_trAPVjyr",
        "colab_type": "text"
      },
      "source": [
        "* **Task 6**: Reconstruct the Life Satisfaction example that we discussed in the lecture. You can find the dataset folder with the two relevant Excel files in iLearn."
      ]
    },
    {
      "cell_type": "code",
      "metadata": {
        "scrolled": true,
        "id": "rpETaaa9Vjyr",
        "colab_type": "code",
        "colab": {
          "base_uri": "https://localhost:8080/",
          "height": 279
        },
        "outputId": "0a0577a4-24a5-4d99-db6c-cc76796071af"
      },
      "source": [
        "import matplotlib.pyplot as plt\n",
        "import numpy as np\n",
        "import pandas as pd\n",
        "import sklearn.linear_model, sklearn.neighbors\n",
        "\n",
        "# import datasets\n",
        "oecd_bli = '/content/gdrive/My Drive/COMP8220 - Datasets/Week1/oecd_bli_2015.csv'\n",
        "gdp_per_capita = '/content/gdrive/My Drive/COMP8220 - Datasets/Week1/gdp_per_capita.csv'\n",
        "\n",
        "df_oecd_bli = pd.read_csv(oecd_bli, thousands=',')\n",
        "df_gdp_per_capita = pd.read_csv(gdp_per_capita, thousands= ',', delimiter = '\\t', encoding = 'latin1', na_values = 'n/a')\n",
        "\n",
        "# This is only a helper function that just merges the OECD's life satisfaction \n",
        "# data and the IMF's GDP per capita data. \n",
        "def prepare_country_stats(oecd_bli, gdp_per_capita):\n",
        "    oecd_bli = oecd_bli[oecd_bli[\"INEQUALITY\"]==\"TOT\"]\n",
        "    oecd_bli = oecd_bli.pivot(index=\"Country\", columns=\"Indicator\", values=\"Value\")\n",
        "    gdp_per_capita.rename(columns={\"2015\": \"GDP per capita\"}, inplace=True) # rename column 2015\n",
        "    gdp_per_capita.set_index(\"Country\", inplace=True)\n",
        "    full_country_stats = pd.merge(left=oecd_bli, right=gdp_per_capita, left_index=True, right_index=True) # merge 2 dataframes\n",
        "    full_country_stats.sort_values(by=\"GDP per capita\", inplace=True)\n",
        "    remove_indices = [0, 1, 6, 8, 33, 34, 35]\n",
        "    keep_indices = list(set(range(36)) - set(remove_indices)) # remove remove_indices list from list range of 36\n",
        "    return full_country_stats[[\"GDP per capita\", 'Life satisfaction']].iloc[keep_indices] \n",
        "    # return dataframe with index country, gdp per capita, life satisfaction columns of keep indices\n",
        "\n",
        "# call and return function results\n",
        "country_stats = prepare_country_stats(df_oecd_bli, df_gdp_per_capita) # call funtion\n",
        "X = np.c_[country_stats[\"GDP per capita\"]] # column to array\n",
        "y = np.c_[country_stats[\"Life satisfaction\"]] # column to array\n",
        "\n",
        "# plot data\n",
        "country_stats.plot(kind='scatter', x=\"GDP per capita\", y='Life satisfaction')\n",
        "plt.show()"
      ],
      "execution_count": 51,
      "outputs": [
        {
          "output_type": "display_data",
          "data": {
            "image/png": "[encoded data removed]",
            "text/plain": [
              "<Figure size 432x288 with 1 Axes>"
            ]
          },
          "metadata": {
            "tags": [],
            "needs_background": "light"
          }
        }
      ]
    }
  ]
}